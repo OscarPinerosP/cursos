{
 "cells": [
  {
   "cell_type": "markdown",
   "metadata": {},
   "source": [
    "# Curso de Python"
   ]
  },
  {
   "cell_type": "markdown",
   "metadata": {},
   "source": [
    "# Módulo 1 Conceptos Básicos de Programación en Python"
   ]
  },
  {
   "cell_type": "markdown",
   "metadata": {},
   "source": [
    "## 1.1 Variables, Tipos de Datos y Operadores\n",
    "\n",
    "### Variables"
   ]
  },
  {
   "cell_type": "code",
   "execution_count": 1,
   "metadata": {},
   "outputs": [],
   "source": [
    "# Declaración de una variable llamada 'edad' con el valor 25\n",
    "edad = 25\n",
    "\n",
    "# Declaración de una variable llamada 'nombre' con el valor \"Juan\"\n",
    "nombre = \"Juan\"\n",
    "\n",
    "# Declaración de una variable llamada 'lista_numeros' con una lista de números\n",
    "lista_numeros = [1, 2, 3, 4, 5]"
   ]
  },
  {
   "cell_type": "markdown",
   "metadata": {},
   "source": [
    "### Tipos de Datos Básicos"
   ]
  },
  {
   "cell_type": "markdown",
   "metadata": {},
   "source": [
    "### Enteros (int):"
   ]
  },
  {
   "cell_type": "code",
   "execution_count": 2,
   "metadata": {},
   "outputs": [],
   "source": [
    "edad = 25\n",
    "numero_negativo = -10"
   ]
  },
  {
   "cell_type": "markdown",
   "metadata": {},
   "source": [
    "### Flotantes (float):"
   ]
  },
  {
   "cell_type": "code",
   "execution_count": 3,
   "metadata": {},
   "outputs": [],
   "source": [
    "altura = 1.75\n",
    "precio = 19.99"
   ]
  },
  {
   "cell_type": "markdown",
   "metadata": {},
   "source": [
    "### Cadenas de texto (str):"
   ]
  },
  {
   "cell_type": "code",
   "execution_count": 4,
   "metadata": {},
   "outputs": [],
   "source": [
    "nombre = \"Juan\"\n",
    "mensaje = 'Hola, ¿cómo estás?'"
   ]
  },
  {
   "cell_type": "markdown",
   "metadata": {},
   "source": [
    "### Booleanos (bool):"
   ]
  },
  {
   "cell_type": "code",
   "execution_count": 5,
   "metadata": {},
   "outputs": [],
   "source": [
    "es_mayor_de_edad = True\n",
    "esta_lloviendo = False"
   ]
  },
  {
   "cell_type": "markdown",
   "metadata": {},
   "source": [
    "### Listas:"
   ]
  },
  {
   "cell_type": "code",
   "execution_count": 6,
   "metadata": {},
   "outputs": [],
   "source": [
    "numeros = [1, 2, 3, 4, 5]\n",
    "colores = ['rojo', 'verde', 'azul']"
   ]
  },
  {
   "cell_type": "markdown",
   "metadata": {},
   "source": [
    "### Tuplas:"
   ]
  },
  {
   "cell_type": "code",
   "execution_count": 7,
   "metadata": {},
   "outputs": [],
   "source": [
    "coordenadas = (10, 20)\n",
    "dias_semana = ('lunes', 'martes', 'miércoles')"
   ]
  },
  {
   "cell_type": "markdown",
   "metadata": {},
   "source": [
    "### Diccionarios:"
   ]
  },
  {
   "cell_type": "code",
   "execution_count": 8,
   "metadata": {},
   "outputs": [],
   "source": [
    "estudiante = {'nombre': 'Ana', 'edad': 21, 'curso': 'Python'}"
   ]
  },
  {
   "cell_type": "markdown",
   "metadata": {},
   "source": [
    "### Conjuntos:"
   ]
  },
  {
   "cell_type": "code",
   "execution_count": 9,
   "metadata": {},
   "outputs": [],
   "source": [
    "numeros_primos = {2, 3, 5, 7, 11}"
   ]
  },
  {
   "cell_type": "markdown",
   "metadata": {},
   "source": [
    "## La función type()"
   ]
  },
  {
   "cell_type": "code",
   "execution_count": 10,
   "metadata": {},
   "outputs": [
    {
     "name": "stdout",
     "output_type": "stream",
     "text": [
      "<class 'int'>\n"
     ]
    }
   ],
   "source": [
    "edad = 25\n",
    "tipo_edad = type(edad)\n",
    "\n",
    "print(tipo_edad)  # Esto imprimirá <class 'int'>"
   ]
  },
  {
   "cell_type": "code",
   "execution_count": 11,
   "metadata": {},
   "outputs": [
    {
     "name": "stdout",
     "output_type": "stream",
     "text": [
      "<class 'str'>\n",
      "<class 'list'>\n"
     ]
    }
   ],
   "source": [
    "nombre = \"Juan\"\n",
    "tipo_nombre = type(nombre)\n",
    "\n",
    "print(tipo_nombre)  # Esto imprimirá <class 'str'>\n",
    "\n",
    "lista_numeros = [1, 2, 3, 4, 5]\n",
    "tipo_lista = type(lista_numeros)\n",
    "\n",
    "print(tipo_lista)  # Esto imprimirá <class 'list'>"
   ]
  },
  {
   "cell_type": "markdown",
   "metadata": {},
   "source": [
    "## Operadores Básicos"
   ]
  },
  {
   "cell_type": "markdown",
   "metadata": {},
   "source": [
    "### Operadores Aritméticos:"
   ]
  },
  {
   "cell_type": "code",
   "execution_count": 12,
   "metadata": {},
   "outputs": [],
   "source": [
    "a = 10\n",
    "b = 3\n",
    "suma = a + b # 13\n",
    "resta = a - b # 7\n",
    "multiplicacion = a * b # 30\n",
    "division = a / b # 3.3333 (en Python 3)\n",
    "modulo = a % b # 1\n",
    "exponente = a ** b # 1000"
   ]
  },
  {
   "cell_type": "markdown",
   "metadata": {},
   "source": [
    "### Operadores de Comparación:"
   ]
  },
  {
   "cell_type": "code",
   "execution_count": 13,
   "metadata": {},
   "outputs": [],
   "source": [
    "x = 5\n",
    "y = 10\n",
    "igual = x == y # False\n",
    "no_igual = x != y # True\n",
    "menor_que = x < y # True\n",
    "mayor_que = x > y # False\n",
    "menor_o_igual = x <= y # True\n",
    "mayor_o_igual = x >= y # False"
   ]
  },
  {
   "cell_type": "markdown",
   "metadata": {},
   "source": [
    "### Operadores Lógicos:"
   ]
  },
  {
   "cell_type": "code",
   "execution_count": 14,
   "metadata": {},
   "outputs": [],
   "source": [
    "a = True\n",
    "b = False\n",
    "resultado_and = a and b # False\n",
    "resultado_or = a or b # True\n",
    "resultado_not = not a # False"
   ]
  },
  {
   "cell_type": "markdown",
   "metadata": {},
   "source": [
    "### Operadores de Asignación:"
   ]
  },
  {
   "cell_type": "code",
   "execution_count": 15,
   "metadata": {},
   "outputs": [],
   "source": [
    "x = 5\n",
    "x += 3 # Equivalente a x = x + 3 (x ahora es 8)"
   ]
  },
  {
   "cell_type": "markdown",
   "metadata": {},
   "source": [
    "## 1.2 Entrada de Datos"
   ]
  },
  {
   "cell_type": "code",
   "execution_count": 16,
   "metadata": {},
   "outputs": [
    {
     "name": "stdout",
     "output_type": "stream",
     "text": [
      "Hola, 10!\n"
     ]
    }
   ],
   "source": [
    "# Pedir al usuario que ingrese su nombre\n",
    "nombre = input(\"Ingrese su nombre: \")\n",
    "\n",
    "# Imprimir un saludo con el nombre ingresado\n",
    "print(\"Hola, \" + nombre + \"!\")"
   ]
  },
  {
   "cell_type": "code",
   "execution_count": 17,
   "metadata": {},
   "outputs": [
    {
     "name": "stdout",
     "output_type": "stream",
     "text": [
      "La suma es: 50.0\n"
     ]
    }
   ],
   "source": [
    "# Pedir al usuario que ingrese un número entero\n",
    "numero_entero = int(input(\"Ingrese un número entero: \"))\n",
    "\n",
    "# Pedir al usuario que ingrese un número decimal\n",
    "numero_decimal = float(input(\"Ingrese un número decimal: \"))\n",
    "\n",
    "# Realizar alguna operación con los números ingresados\n",
    "suma = numero_entero + numero_decimal\n",
    "print(\"La suma es:\", suma)"
   ]
  },
  {
   "cell_type": "code",
   "execution_count": 18,
   "metadata": {},
   "outputs": [
    {
     "name": "stdout",
     "output_type": "stream",
     "text": [
      "Nombres ingresados: ['40']\n"
     ]
    }
   ],
   "source": [
    "# Pedir al usuario que ingrese una lista de nombres separados por comas\n",
    "nombres_str = input(\"Ingrese una lista de nombres separados por comas: \")\n",
    "\n",
    "# Dividir la entrada en una lista de nombres\n",
    "lista_nombres = nombres_str.split(',')\n",
    "\n",
    "# Imprimir los nombres ingresados\n",
    "print(\"Nombres ingresados:\", lista_nombres)"
   ]
  },
  {
   "cell_type": "markdown",
   "metadata": {},
   "source": [
    "## 1.3 Estructuras de Control"
   ]
  },
  {
   "cell_type": "markdown",
   "metadata": {},
   "source": [
    "### Estructura if simple:"
   ]
  },
  {
   "cell_type": "code",
   "execution_count": 19,
   "metadata": {},
   "outputs": [
    {
     "name": "stdout",
     "output_type": "stream",
     "text": [
      "Eres mayor de edad\n"
     ]
    }
   ],
   "source": [
    "edad = 18\n",
    "\n",
    "if edad >= 18:\n",
    "    print(\"Eres mayor de edad\")"
   ]
  },
  {
   "cell_type": "markdown",
   "metadata": {},
   "source": [
    "### Estructura if con else:"
   ]
  },
  {
   "cell_type": "code",
   "execution_count": 20,
   "metadata": {},
   "outputs": [
    {
     "name": "stdout",
     "output_type": "stream",
     "text": [
      "Eres menor de edad\n"
     ]
    }
   ],
   "source": [
    "edad = 16\n",
    "\n",
    "if edad >= 18:\n",
    "    print(\"Eres mayor de edad\")\n",
    "else:\n",
    "    print(\"Eres menor de edad\")"
   ]
  },
  {
   "cell_type": "markdown",
   "metadata": {},
   "source": [
    "### Estructura if con elif:"
   ]
  },
  {
   "cell_type": "code",
   "execution_count": 21,
   "metadata": {},
   "outputs": [
    {
     "name": "stdout",
     "output_type": "stream",
     "text": [
      "Bien hecho\n"
     ]
    }
   ],
   "source": [
    "puntaje = 75\n",
    "\n",
    "if puntaje >= 90:\n",
    "    print(\"Excelente\")\n",
    "elif puntaje >= 70:\n",
    "    print(\"Bien hecho\")\n",
    "else:\n",
    "    print(\"Necesitas mejorar\")"
   ]
  },
  {
   "cell_type": "markdown",
   "metadata": {},
   "source": [
    "### Estructuras condicionales anidadas:"
   ]
  },
  {
   "cell_type": "code",
   "execution_count": 22,
   "metadata": {},
   "outputs": [
    {
     "name": "stdout",
     "output_type": "stream",
     "text": [
      "Está agradable\n"
     ]
    }
   ],
   "source": [
    "temperatura = 25\n",
    "\n",
    "if temperatura > 30:\n",
    "    print(\"Hace mucho calor\")\n",
    "else:\n",
    "    if temperatura > 20:\n",
    "        print(\"Está agradable\")\n",
    "    else:\n",
    "        print(\"Hace frío\")"
   ]
  },
  {
   "cell_type": "markdown",
   "metadata": {},
   "source": [
    "## Bucles"
   ]
  },
  {
   "cell_type": "markdown",
   "metadata": {},
   "source": [
    "### Bucle for:\n",
    "\n",
    "### Ejemplo 1: Iterando sobre una lista"
   ]
  },
  {
   "cell_type": "code",
   "execution_count": 23,
   "metadata": {},
   "outputs": [
    {
     "name": "stdout",
     "output_type": "stream",
     "text": [
      "manzana\n",
      "banana\n",
      "cereza\n"
     ]
    }
   ],
   "source": [
    "frutas = [\"manzana\", \"banana\", \"cereza\"]\n",
    "\n",
    "for fruta in frutas:\n",
    "    print(fruta)"
   ]
  },
  {
   "cell_type": "markdown",
   "metadata": {},
   "source": [
    "### Ejemplo 2: Utilizando la función range()"
   ]
  },
  {
   "cell_type": "code",
   "execution_count": 24,
   "metadata": {},
   "outputs": [
    {
     "name": "stdout",
     "output_type": "stream",
     "text": [
      "0\n",
      "1\n",
      "2\n",
      "3\n",
      "4\n"
     ]
    }
   ],
   "source": [
    "for i in range(5):\n",
    "    print(i)"
   ]
  },
  {
   "cell_type": "markdown",
   "metadata": {},
   "source": [
    "## Bucle while:\n",
    "\n",
    "### Ejemplo 1: Bucle while simple"
   ]
  },
  {
   "cell_type": "code",
   "execution_count": 25,
   "metadata": {},
   "outputs": [
    {
     "name": "stdout",
     "output_type": "stream",
     "text": [
      "0\n",
      "1\n",
      "2\n",
      "3\n",
      "4\n"
     ]
    }
   ],
   "source": [
    "contador = 0\n",
    "\n",
    "while contador < 5:\n",
    "    print(contador)\n",
    "    contador += 1"
   ]
  },
  {
   "cell_type": "markdown",
   "metadata": {},
   "source": [
    "### Ejemplo 2: Bucle while con break"
   ]
  },
  {
   "cell_type": "code",
   "execution_count": 26,
   "metadata": {},
   "outputs": [
    {
     "name": "stdout",
     "output_type": "stream",
     "text": [
      "0\n",
      "1\n",
      "2\n",
      "3\n",
      "4\n"
     ]
    }
   ],
   "source": [
    "numero = 0\n",
    "\n",
    "while True:\n",
    "    print(numero)\n",
    "    numero += 1\n",
    "\n",
    "    if numero >= 5:\n",
    "        break"
   ]
  },
  {
   "cell_type": "markdown",
   "metadata": {},
   "source": [
    "### Ejemplo 3: Un bucle while que utiliza break y continue:"
   ]
  },
  {
   "cell_type": "code",
   "execution_count": 27,
   "metadata": {},
   "outputs": [
    {
     "name": "stdout",
     "output_type": "stream",
     "text": [
      "2\n",
      "4\n",
      "6\n"
     ]
    }
   ],
   "source": [
    "numero = 0\n",
    "\n",
    "while numero < 10:\n",
    "    numero += 1\n",
    "\n",
    "    # Saltar los números impares\n",
    "    if numero % 2 != 0:\n",
    "        continue\n",
    "\n",
    "    print(numero)\n",
    "\n",
    "    # Salir del bucle si el número alcanza 6\n",
    "    if numero == 6:\n",
    "        break"
   ]
  },
  {
   "cell_type": "markdown",
   "metadata": {},
   "source": [
    "## 1.4 Funciones y Modularidad"
   ]
  },
  {
   "cell_type": "markdown",
   "metadata": {},
   "source": [
    "def nombre_de_la_funcion(parametro1, parametro2, ...):\n",
    "    # Cuerpo de la función\n",
    "    # Realiza operaciones utilizando los parámetros\n",
    "\n",
    "    # Opcional: Puede tener un valor de retorno\n",
    "    return resultado"
   ]
  },
  {
   "cell_type": "code",
   "execution_count": 28,
   "metadata": {},
   "outputs": [
    {
     "name": "stdout",
     "output_type": "stream",
     "text": [
      "¡Hola, mundo!\n"
     ]
    }
   ],
   "source": [
    "def saludar():\n",
    "    print(\"¡Hola, mundo!\")\n",
    "\n",
    "# Llamada a la función\n",
    "saludar()"
   ]
  },
  {
   "cell_type": "code",
   "execution_count": 29,
   "metadata": {},
   "outputs": [
    {
     "name": "stdout",
     "output_type": "stream",
     "text": [
      "8\n"
     ]
    }
   ],
   "source": [
    "def sumar(a, b):\n",
    "    resultado = a + b\n",
    "    return resultado\n",
    "\n",
    "# Llamada a la función\n",
    "resultado_suma = sumar(3, 5)\n",
    "print(resultado_suma)  # Imprimirá 8"
   ]
  },
  {
   "cell_type": "markdown",
   "metadata": {},
   "source": [
    "## Módulos y Reutilización de Código"
   ]
  },
  {
   "cell_type": "markdown",
   "metadata": {},
   "source": [
    "### Importar un módulo completo:"
   ]
  },
  {
   "cell_type": "code",
   "execution_count": 30,
   "metadata": {},
   "outputs": [
    {
     "name": "stdout",
     "output_type": "stream",
     "text": [
      "5.0\n"
     ]
    }
   ],
   "source": [
    "# Importar todo el módulo math\n",
    "import math\n",
    "\n",
    "# Utilizar una función del módulo math\n",
    "raiz_cuadrada = math.sqrt(25)\n",
    "print(raiz_cuadrada)  # Imprimirá 5.0"
   ]
  },
  {
   "cell_type": "markdown",
   "metadata": {},
   "source": [
    "### Importar una función específica de un módulo:"
   ]
  },
  {
   "cell_type": "code",
   "execution_count": 31,
   "metadata": {},
   "outputs": [
    {
     "name": "stdout",
     "output_type": "stream",
     "text": [
      "6.0\n"
     ]
    }
   ],
   "source": [
    "# Importar solo la función sqrt del módulo math\n",
    "from math import sqrt\n",
    "\n",
    "# Utilizar la función directamente sin usar el nombre del módulo\n",
    "raiz_cuadrada = sqrt(36)\n",
    "print(raiz_cuadrada)  # Imprimirá 6.0"
   ]
  },
  {
   "cell_type": "markdown",
   "metadata": {},
   "source": [
    "### Renombrar un módulo o función durante la importación:"
   ]
  },
  {
   "cell_type": "code",
   "execution_count": 32,
   "metadata": {},
   "outputs": [
    {
     "name": "stdout",
     "output_type": "stream",
     "text": [
      "4.0\n"
     ]
    }
   ],
   "source": [
    "# Importar el módulo math y renombrarlo como mt\n",
    "import math as mt\n",
    "\n",
    "# Utilizar la función sqrt utilizando el nuevo nombre del módulo\n",
    "raiz_cuadrada = mt.sqrt(16)\n",
    "print(raiz_cuadrada)  # Imprimirá 4.0"
   ]
  },
  {
   "cell_type": "markdown",
   "metadata": {},
   "source": [
    "# Módulo 2: Estructuras de Datos en Python"
   ]
  },
  {
   "cell_type": "markdown",
   "metadata": {},
   "source": [
    "## 2.1 Listas, Tuplas y Diccionarios"
   ]
  },
  {
   "cell_type": "markdown",
   "metadata": {},
   "source": [
    "### Listas\n",
    "\n",
    "### Crear una lista:"
   ]
  },
  {
   "cell_type": "code",
   "execution_count": 33,
   "metadata": {},
   "outputs": [],
   "source": [
    "# Crear una lista de números\n",
    "numeros = [1, 2, 3, 4, 5]\n",
    "\n",
    "# Crear una lista de strings\n",
    "frutas = [\"manzana\", \"naranja\", \"uva\"]\n",
    "\n",
    "# Crear una lista mixta\n",
    "mixta = [1, \"dos\", 3.0, True]"
   ]
  },
  {
   "cell_type": "markdown",
   "metadata": {},
   "source": [
    "### Acceder a los elementos de una lista:"
   ]
  },
  {
   "cell_type": "code",
   "execution_count": 34,
   "metadata": {},
   "outputs": [],
   "source": [
    "frutas = [\"manzana\", \"naranja\", \"uva\"]\n",
    "\n",
    "primera_fruta = frutas[0]  # Acceder a la primera fruta (\"manzana\")\n",
    "segunda_fruta = frutas[1]  # Acceder a la segunda fruta (\"naranja\")"
   ]
  },
  {
   "cell_type": "markdown",
   "metadata": {},
   "source": [
    "### Métodos básicos de las listas:"
   ]
  },
  {
   "cell_type": "markdown",
   "metadata": {},
   "source": [
    "### append(elemento)"
   ]
  },
  {
   "cell_type": "code",
   "execution_count": 35,
   "metadata": {},
   "outputs": [
    {
     "name": "stdout",
     "output_type": "stream",
     "text": [
      "['manzana', 'naranja', 'uva', 'pera']\n"
     ]
    }
   ],
   "source": [
    "frutas = [\"manzana\", \"naranja\", \"uva\"]\n",
    "frutas.append(\"pera\")\n",
    "print(frutas) # Imprimirá [\"manzana\", \"naranja\", \"uva\", \"pera\"]"
   ]
  },
  {
   "cell_type": "markdown",
   "metadata": {},
   "source": [
    "### insert(posición, elemento)"
   ]
  },
  {
   "cell_type": "code",
   "execution_count": 36,
   "metadata": {},
   "outputs": [
    {
     "name": "stdout",
     "output_type": "stream",
     "text": [
      "['manzana', 'pera', 'naranja', 'uva']\n"
     ]
    }
   ],
   "source": [
    "frutas = [\"manzana\", \"naranja\", \"uva\"]\n",
    "frutas.insert(1, \"pera\")\n",
    "print(frutas) # Imprimirá [\"manzana\", \"pera\", \"naranja\", \"uva\"]"
   ]
  },
  {
   "cell_type": "markdown",
   "metadata": {},
   "source": [
    "### remove(elemento)"
   ]
  },
  {
   "cell_type": "code",
   "execution_count": 37,
   "metadata": {},
   "outputs": [
    {
     "name": "stdout",
     "output_type": "stream",
     "text": [
      "['manzana', 'uva']\n"
     ]
    }
   ],
   "source": [
    "frutas = [\"manzana\", \"naranja\", \"uva\"]\n",
    "frutas.remove(\"naranja\")\n",
    "print(frutas) # Imprimirá [\"manzana\", \"uva\"]"
   ]
  },
  {
   "cell_type": "markdown",
   "metadata": {},
   "source": [
    "### pop(posición)"
   ]
  },
  {
   "cell_type": "code",
   "execution_count": 38,
   "metadata": {},
   "outputs": [
    {
     "name": "stdout",
     "output_type": "stream",
     "text": [
      "['manzana', 'uva']\n",
      "naranja\n"
     ]
    }
   ],
   "source": [
    "frutas = [\"manzana\", \"naranja\", \"uva\"]\n",
    "fruta_eliminada = frutas.pop(1)\n",
    "print(frutas) # Imprimirá [\"manzana\", \"uva\"]\n",
    "print(fruta_eliminada) # Imprimirá \"naranja\""
   ]
  },
  {
   "cell_type": "markdown",
   "metadata": {},
   "source": [
    "### len()"
   ]
  },
  {
   "cell_type": "code",
   "execution_count": 39,
   "metadata": {},
   "outputs": [
    {
     "name": "stdout",
     "output_type": "stream",
     "text": [
      "3\n"
     ]
    }
   ],
   "source": [
    "frutas = [\"manzana\", \"naranja\", \"uva\"]\n",
    "longitud = len(frutas)\n",
    "print(longitud) # Imprimirá 3"
   ]
  },
  {
   "cell_type": "markdown",
   "metadata": {},
   "source": [
    "### Tuplas\n",
    "### Crear una tupla:"
   ]
  },
  {
   "cell_type": "code",
   "execution_count": 40,
   "metadata": {},
   "outputs": [],
   "source": [
    "# Crear una tupla de números\n",
    "numeros = (1, 2, 3, 4, 5)\n",
    "\n",
    "# Crear una tupla de strings\n",
    "frutas = (\"manzana\", \"naranja\", \"uva\")\n",
    "\n",
    "# Crear una tupla mixta\n",
    "mixta = (1, \"dos\", 3.0, True)"
   ]
  },
  {
   "cell_type": "markdown",
   "metadata": {},
   "source": [
    "### Acceder a los elementos de una tupla:"
   ]
  },
  {
   "cell_type": "code",
   "execution_count": 41,
   "metadata": {},
   "outputs": [],
   "source": [
    "frutas = (\"manzana\", \"naranja\", \"uva\")\n",
    "\n",
    "primera_fruta = frutas[0]  # Acceder a la primera fruta (\"manzana\")\n",
    "segunda_fruta = frutas[1]  # Acceder a la segunda fruta (\"naranja\")"
   ]
  },
  {
   "cell_type": "markdown",
   "metadata": {},
   "source": [
    "### Métodos básicos de las tuplas:"
   ]
  },
  {
   "cell_type": "markdown",
   "metadata": {},
   "source": [
    "### count(elemento)"
   ]
  },
  {
   "cell_type": "code",
   "execution_count": 42,
   "metadata": {},
   "outputs": [
    {
     "name": "stdout",
     "output_type": "stream",
     "text": [
      "2\n"
     ]
    }
   ],
   "source": [
    "frutas = (\"manzana\", \"naranja\", \"uva\", \"manzana\")\n",
    "cantidad_manzanas = frutas.count(\"manzana\")\n",
    "print(cantidad_manzanas) # Imprimirá 2"
   ]
  },
  {
   "cell_type": "markdown",
   "metadata": {},
   "source": [
    "### index(elemento)"
   ]
  },
  {
   "cell_type": "code",
   "execution_count": 43,
   "metadata": {},
   "outputs": [
    {
     "name": "stdout",
     "output_type": "stream",
     "text": [
      "1\n"
     ]
    }
   ],
   "source": [
    "frutas = (\"manzana\", \"naranja\", \"uva\", \"manzana\")\n",
    "indice_naranja = frutas.index(\"naranja\")\n",
    "print(indice_naranja) # Imprimirá 1"
   ]
  },
  {
   "cell_type": "markdown",
   "metadata": {},
   "source": [
    "### len()"
   ]
  },
  {
   "cell_type": "code",
   "execution_count": 44,
   "metadata": {},
   "outputs": [
    {
     "name": "stdout",
     "output_type": "stream",
     "text": [
      "3\n"
     ]
    }
   ],
   "source": [
    "frutas = (\"manzana\", \"naranja\", \"uva\")\n",
    "longitud = len(frutas)\n",
    "print(longitud) # Imprimirá 3"
   ]
  },
  {
   "cell_type": "markdown",
   "metadata": {},
   "source": [
    "### Diccionarios\n",
    "### Crear un diccionario:"
   ]
  },
  {
   "cell_type": "code",
   "execution_count": 45,
   "metadata": {},
   "outputs": [],
   "source": [
    "# Crear un diccionario de información del estudiante\n",
    "estudiante = {\n",
    "    \"nombre\": \"Juan\",\n",
    "    \"edad\": 20,\n",
    "    \"curso\": \"Python\",\n",
    "    \"calificaciones\": [90, 85, 88]\n",
    "}\n",
    "\n",
    "# Crear un diccionario vacío\n",
    "diccionario_vacio = {}"
   ]
  },
  {
   "cell_type": "markdown",
   "metadata": {},
   "source": [
    "### Acceder a los elementos de un diccionario:"
   ]
  },
  {
   "cell_type": "code",
   "execution_count": 46,
   "metadata": {},
   "outputs": [],
   "source": [
    "nombre_estudiante = estudiante[\"nombre\"]  # Acceder al valor de la clave \"nombre\"\n",
    "calificaciones = estudiante[\"calificaciones\"]  # Acceder al valor de la clave \"calificaciones\""
   ]
  },
  {
   "cell_type": "markdown",
   "metadata": {},
   "source": [
    "### Métodos básicos de los diccionarios:\n",
    "### keys()"
   ]
  },
  {
   "cell_type": "code",
   "execution_count": 47,
   "metadata": {},
   "outputs": [
    {
     "name": "stdout",
     "output_type": "stream",
     "text": [
      "dict_keys(['nombre', 'edad', 'curso', 'calificaciones'])\n"
     ]
    }
   ],
   "source": [
    "claves = estudiante.keys()\n",
    "print(claves) # Imprimirá dict_keys(['nombre', 'edad', 'curso', 'calificaciones'])"
   ]
  },
  {
   "cell_type": "markdown",
   "metadata": {},
   "source": [
    "### values()"
   ]
  },
  {
   "cell_type": "code",
   "execution_count": 48,
   "metadata": {},
   "outputs": [
    {
     "name": "stdout",
     "output_type": "stream",
     "text": [
      "dict_values(['Juan', 20, 'Python', [90, 85, 88]])\n"
     ]
    }
   ],
   "source": [
    "valores = estudiante.values()\n",
    "print(valores) # Imprimirá dict_values(['Juan', 20, 'Python', [90, 85, 88]])"
   ]
  },
  {
   "cell_type": "markdown",
   "metadata": {},
   "source": [
    "### items()"
   ]
  },
  {
   "cell_type": "code",
   "execution_count": 49,
   "metadata": {},
   "outputs": [
    {
     "name": "stdout",
     "output_type": "stream",
     "text": [
      "dict_items([('nombre', 'Juan'), ('edad', 20), ('curso', 'Python'), ('calificaciones', [90, 85, 88])])\n"
     ]
    }
   ],
   "source": [
    "items = estudiante.items()\n",
    "print(items) # Imprimirá dict_items([('nombre', 'Juan'), ('edad', 20), ('curso', 'Python'), ('calificaciones', [90, 85, 88])])"
   ]
  },
  {
   "cell_type": "markdown",
   "metadata": {},
   "source": [
    "### get(clave, valor_por_defecto)"
   ]
  },
  {
   "cell_type": "code",
   "execution_count": 50,
   "metadata": {},
   "outputs": [
    {
     "name": "stdout",
     "output_type": "stream",
     "text": [
      "20\n",
      "Desconocida\n"
     ]
    }
   ],
   "source": [
    "edad_estudiante = estudiante.get(\"edad\", 0)\n",
    "print(edad_estudiante) # Imprimirá 20\n",
    "ciudad_estudiante = estudiante.get(\"ciudad\", \"Desconocida\")\n",
    "print(ciudad_estudiante) # Imprimirá \"Desconocida\""
   ]
  },
  {
   "cell_type": "markdown",
   "metadata": {},
   "source": [
    "### update(diccionario)"
   ]
  },
  {
   "cell_type": "code",
   "execution_count": 51,
   "metadata": {},
   "outputs": [
    {
     "name": "stdout",
     "output_type": "stream",
     "text": [
      "{'nombre': 'Juan', 'edad': 20, 'curso': 'Python', 'calificaciones': [90, 85, 88], 'ciudad': 'Ciudad del Este', 'nota_final': 92}\n"
     ]
    }
   ],
   "source": [
    "nuevo_diccionario = {\"ciudad\": \"Ciudad del Este\", \"nota_final\": 92}\n",
    "estudiante.update(nuevo_diccionario)\n",
    "print(estudiante)\n",
    "# Imprimirá {'nombre': 'Juan', 'edad': 20, 'curso': 'Python', 'calificaciones': [90, 85, 88], 'ciudad': 'Ciudad del Este', 'nota_final': 92}"
   ]
  },
  {
   "cell_type": "markdown",
   "metadata": {},
   "source": [
    "### Otros Ejemplos"
   ]
  },
  {
   "cell_type": "code",
   "execution_count": 52,
   "metadata": {},
   "outputs": [
    {
     "name": "stdout",
     "output_type": "stream",
     "text": [
      "Juan 25 Ciudad del Este\n"
     ]
    }
   ],
   "source": [
    "# Crear un diccionario\n",
    "mi_diccionario = {\"nombre\": \"Juan\", \"edad\": 25, \"ciudad\": \"Ciudad del Este\"}\n",
    "\n",
    "# Acceder a un valor mediante su clave\n",
    "nombre = mi_diccionario[\"nombre\"]\n",
    "edad = mi_diccionario[\"edad\"]\n",
    "ciudad = mi_diccionario[\"ciudad\"]\n",
    "\n",
    "print(nombre, edad, ciudad)\n",
    "# Imprimirá \"Juan 25 Ciudad del Este\""
   ]
  },
  {
   "cell_type": "markdown",
   "metadata": {},
   "source": [
    "### Elementos de un diccionario:\n",
    "### Adicionar o modificar un elemento en un diccionario:"
   ]
  },
  {
   "cell_type": "code",
   "execution_count": 53,
   "metadata": {},
   "outputs": [
    {
     "name": "stdout",
     "output_type": "stream",
     "text": [
      "{'nombre': 'Juan', 'edad': 26, 'ciudad': 'Ciudad del Este', 'profesion': 'Programador'}\n"
     ]
    }
   ],
   "source": [
    "# Agregar un nuevo elemento\n",
    "mi_diccionario[\"profesion\"] = \"Programador\"\n",
    "\n",
    "# Modificar un elemento existente\n",
    "mi_diccionario[\"edad\"] = 26\n",
    "\n",
    "print(mi_diccionario)\n",
    "# Imprimirá {'nombre': 'Juan', 'edad': 26, 'ciudad': 'Ciudad del Este', 'profesion': 'Programador'}"
   ]
  },
  {
   "cell_type": "markdown",
   "metadata": {},
   "source": [
    "### Eliminar un elemento de un diccionario:"
   ]
  },
  {
   "cell_type": "code",
   "execution_count": 54,
   "metadata": {},
   "outputs": [
    {
     "name": "stdout",
     "output_type": "stream",
     "text": [
      "{'nombre': 'Juan', 'edad': 26, 'profesion': 'Programador'}\n"
     ]
    }
   ],
   "source": [
    "# Eliminar un elemento\n",
    "del mi_diccionario[\"ciudad\"]\n",
    "\n",
    "print(mi_diccionario)\n",
    "# Imprimirá {'nombre': 'Juan', 'edad': 26, 'profesion': 'Programador'}"
   ]
  },
  {
   "cell_type": "markdown",
   "metadata": {},
   "source": [
    "### Métodos para operaciones en diccionarios:\n",
    "Además de las operaciones básicas mencionadas, hay varios métodos que puedes utilizar para realizar operaciones en diccionarios, como pop(), popitem(), keys(), values(), items(), entre otros. Aquí hay un ejemplo de algunos de estos métodos:"
   ]
  },
  {
   "cell_type": "code",
   "execution_count": 55,
   "metadata": {},
   "outputs": [
    {
     "name": "stdout",
     "output_type": "stream",
     "text": [
      "25\n",
      "('ciudad', 'Ciudad del Este')\n",
      "dict_keys(['nombre'])\n",
      "dict_values(['Juan'])\n",
      "dict_items([('nombre', 'Juan')])\n"
     ]
    }
   ],
   "source": [
    "# Crear un diccionario\n",
    "mi_diccionario = {\"nombre\": \"Juan\", \"edad\": 25, \"ciudad\": \"Ciudad del Este\"}\n",
    "\n",
    "# Eliminar un elemento con pop()\n",
    "edad_eliminada = mi_diccionario.pop(\"edad\")\n",
    "\n",
    "# Obtener y eliminar el último elemento con popitem()\n",
    "ultimo_elemento = mi_diccionario.popitem()\n",
    "\n",
    "# Obtener las claves con keys()\n",
    "claves = mi_diccionario.keys()\n",
    "\n",
    "# Obtener los valores con values()\n",
    "valores = mi_diccionario.values()\n",
    "\n",
    "# Obtener los pares clave-valor con items()\n",
    "pares_clave_valor = mi_diccionario.items()\n",
    "\n",
    "print(edad_eliminada)\n",
    "# Imprimirá 25\n",
    "\n",
    "print(ultimo_elemento)\n",
    "# Imprimirá ('ciudad', 'Ciudad del Este')\n",
    "\n",
    "print(claves)\n",
    "# Imprimirá dict_keys(['nombre', 'edad'])\n",
    "\n",
    "print(valores)\n",
    "# Imprimirá dict_values(['Juan', 25])\n",
    "\n",
    "print(pares_clave_valor)\n",
    "# Imprimirá dict_items([('nombre', 'Juan'), ('edad', 25)])"
   ]
  },
  {
   "cell_type": "markdown",
   "metadata": {},
   "source": [
    "## 2.2 Conjuntos\n",
    "### Crear un conjunto:"
   ]
  },
  {
   "cell_type": "code",
   "execution_count": 56,
   "metadata": {},
   "outputs": [],
   "source": [
    "# Crear un conjunto con llaves\n",
    "frutas = {\"manzana\", \"naranja\", \"uva\"}\n",
    "\n",
    "# Crear un conjunto con la función set()\n",
    "numeros = set([1, 2, 3, 4, 5])"
   ]
  },
  {
   "cell_type": "markdown",
   "metadata": {},
   "source": [
    "### Acceder a los elementos de un conjunto:"
   ]
  },
  {
   "cell_type": "code",
   "execution_count": 57,
   "metadata": {},
   "outputs": [
    {
     "name": "stdout",
     "output_type": "stream",
     "text": [
      "La manzana está en el conjunto\n"
     ]
    }
   ],
   "source": [
    "frutas = {\"manzana\", \"naranja\", \"uva\"}\n",
    "\n",
    "if \"manzana\" in frutas:\n",
    "    print(\"La manzana está en el conjunto\")"
   ]
  },
  {
   "cell_type": "markdown",
   "metadata": {},
   "source": [
    "### Operaciones con conjuntos:\n",
    "### Unión (union() o |)"
   ]
  },
  {
   "cell_type": "code",
   "execution_count": 58,
   "metadata": {},
   "outputs": [
    {
     "name": "stdout",
     "output_type": "stream",
     "text": [
      "{1, 2, 3, 4, 5}\n",
      "{1, 2, 3, 4, 5}\n"
     ]
    }
   ],
   "source": [
    "conjunto1 = {1, 2, 3}\n",
    "conjunto2 = {3, 4, 5}\n",
    "union_resultado = conjunto1.union(conjunto2)\n",
    "# O usando el operador |\n",
    "union_resultado_operador = conjunto1 | conjunto2\n",
    "print(union_resultado) # Imprimirá {1, 2, 3, 4, 5}\n",
    "print(union_resultado_operador) # Imprimirá {1, 2, 3, 4, 5}"
   ]
  },
  {
   "cell_type": "markdown",
   "metadata": {},
   "source": [
    "### Intersección (intersection() o &)"
   ]
  },
  {
   "cell_type": "code",
   "execution_count": 59,
   "metadata": {},
   "outputs": [
    {
     "name": "stdout",
     "output_type": "stream",
     "text": [
      "{3}\n",
      "{3}\n"
     ]
    }
   ],
   "source": [
    "conjunto1 = {1, 2, 3}\n",
    "conjunto2 = {3, 4, 5}\n",
    "interseccion_resultado = conjunto1.intersection(conjunto2)\n",
    "# O usando el operador &\n",
    "interseccion_resultado_operador = conjunto1 & conjunto2\n",
    "print(interseccion_resultado) # Imprimirá {3}\n",
    "print(interseccion_resultado_operador) # Imprimirá {3}"
   ]
  },
  {
   "cell_type": "markdown",
   "metadata": {},
   "source": [
    "### Diferencia (difference() o - )"
   ]
  },
  {
   "cell_type": "code",
   "execution_count": 60,
   "metadata": {},
   "outputs": [
    {
     "name": "stdout",
     "output_type": "stream",
     "text": [
      "{1, 2}\n",
      "{1, 2}\n"
     ]
    }
   ],
   "source": [
    "conjunto1 = {1, 2, 3}\n",
    "conjunto2 = {3, 4, 5}\n",
    "diferencia_resultado = conjunto1.difference(conjunto2)\n",
    "# O usando el operador -\n",
    "diferencia_resultado_operador = conjunto1 - conjunto2\n",
    "print(diferencia_resultado) # Imprimirá {1, 2}\n",
    "print(diferencia_resultado_operador) # Imprimirá {1, 2}"
   ]
  },
  {
   "cell_type": "markdown",
   "metadata": {},
   "source": [
    "### Diferencia simétrica (symmetric_difference() o ^)"
   ]
  },
  {
   "cell_type": "code",
   "execution_count": 61,
   "metadata": {},
   "outputs": [
    {
     "name": "stdout",
     "output_type": "stream",
     "text": [
      "{1, 2, 4, 5}\n",
      "{1, 2, 4, 5}\n"
     ]
    }
   ],
   "source": [
    "conjunto1 = {1, 2, 3}\n",
    "conjunto2 = {3, 4, 5}\n",
    "diferencia_simetrica_resultado = conjunto1.symmetric_difference(conjunto2)\n",
    "# O usando el operador ^\n",
    "diferencia_simetrica_resultado_operador = conjunto1 ^ conjunto2\n",
    "print(diferencia_simetrica_resultado) # Imprimirá {1, 2, 4, 5}\n",
    "print(diferencia_simetrica_resultado_operador) # Imprimirá {1, 2, 4, 5}"
   ]
  },
  {
   "cell_type": "markdown",
   "metadata": {},
   "source": [
    "### Eliminar duplicados en una lista utilizando conjuntos:"
   ]
  },
  {
   "cell_type": "code",
   "execution_count": 62,
   "metadata": {},
   "outputs": [
    {
     "name": "stdout",
     "output_type": "stream",
     "text": [
      "[1, 2, 3, 4, 5, 6]\n"
     ]
    }
   ],
   "source": [
    "# Lista con duplicados\n",
    "lista_con_duplicados = [1, 2, 2, 3, 4, 4, 5, 6, 6]\n",
    "\n",
    "# Convertir la lista a un conjunto para eliminar duplicados\n",
    "conjunto_sin_duplicados = set(lista_con_duplicados)\n",
    "\n",
    "# Convertir de nuevo el conjunto a una lista (si es necesario)\n",
    "lista_sin_duplicados = list(conjunto_sin_duplicados)\n",
    "\n",
    "print(lista_sin_duplicados)\n",
    "# Imprimirá [1, 2, 3, 4, 5, 6]"
   ]
  },
  {
   "cell_type": "markdown",
   "metadata": {},
   "source": [
    "### Verificación de pertenencia con in:"
   ]
  },
  {
   "cell_type": "code",
   "execution_count": 63,
   "metadata": {},
   "outputs": [
    {
     "name": "stdout",
     "output_type": "stream",
     "text": [
      "Sí, el kiwi está en el conjunto\n",
      "No, la pera no está en el conjunto\n"
     ]
    }
   ],
   "source": [
    "# Conjunto de frutas\n",
    "frutas = {\"manzana\", \"naranja\", \"uva\", \"kiwi\"}\n",
    "\n",
    "# Verificar si \"kiwi\" está en el conjunto\n",
    "if \"kiwi\" in frutas:\n",
    "    print(\"Sí, el kiwi está en el conjunto\")\n",
    "else:\n",
    "    print(\"No, el kiwi no está en el conjunto\")\n",
    "\n",
    "# Verificar si \"pera\" está en el conjunto\n",
    "if \"pera\" in frutas:\n",
    "    print(\"Sí, la pera está en el conjunto\")\n",
    "else:\n",
    "    print(\"No, la pera no está en el conjunto\")"
   ]
  },
  {
   "cell_type": "markdown",
   "metadata": {},
   "source": [
    "### 2.3 Cadenas o Strings, Acceso y Manipulación de Cadenas"
   ]
  },
  {
   "cell_type": "markdown",
   "metadata": {},
   "source": [
    "### Acceder a los elementos de una cadena (Indexación):"
   ]
  },
  {
   "cell_type": "code",
   "execution_count": 64,
   "metadata": {},
   "outputs": [],
   "source": [
    "cadena = \"Python\"\n",
    "\n",
    "primer_caracter = cadena[0]     # P\n",
    "segundo_caracter = cadena[1]    # y\n",
    "ultimo_caracter = cadena[-1]     # n\n",
    "penultimo_caracter = cadena[-2]  # o"
   ]
  },
  {
   "cell_type": "markdown",
   "metadata": {},
   "source": [
    "### Slicing:\n",
    "El slicing se utiliza para extraer porciones de una cadena utilizando la notación [inicio:final]."
   ]
  },
  {
   "cell_type": "code",
   "execution_count": 65,
   "metadata": {},
   "outputs": [],
   "source": [
    "cadena = \"Python\"\n",
    "\n",
    "subcadena1 = cadena[0:3]   # Pyt (incluye el índice de inicio pero no el de final)\n",
    "subcadena2 = cadena[2:]    # thon (desde el índice 2 hasta el final)\n",
    "subcadena3 = cadena[:4]    # Pyth (desde el principio hasta el índice 3)\n",
    "\n",
    "# Slicing con pasos\n",
    "subcadena4 = cadena[::2]   # Pto (toma cada segundo carácter)"
   ]
  },
  {
   "cell_type": "markdown",
   "metadata": {},
   "source": [
    "### Métodos básicos para manejo de cadenas:\n",
    "### len()"
   ]
  },
  {
   "cell_type": "code",
   "execution_count": 66,
   "metadata": {},
   "outputs": [
    {
     "name": "stdout",
     "output_type": "stream",
     "text": [
      "6\n"
     ]
    }
   ],
   "source": [
    "cadena = \"Python\"\n",
    "longitud = len(cadena)\n",
    "print(longitud) # Imprimirá 6"
   ]
  },
  {
   "cell_type": "markdown",
   "metadata": {},
   "source": [
    "### upper()"
   ]
  },
  {
   "cell_type": "code",
   "execution_count": 67,
   "metadata": {},
   "outputs": [
    {
     "name": "stdout",
     "output_type": "stream",
     "text": [
      "PYTHON\n"
     ]
    }
   ],
   "source": [
    "cadena = \"python\"\n",
    "mayusculas = cadena.upper()\n",
    "print(mayusculas) # Imprimirá \"PYTHON\""
   ]
  },
  {
   "cell_type": "markdown",
   "metadata": {},
   "source": [
    "### lower()"
   ]
  },
  {
   "cell_type": "code",
   "execution_count": 68,
   "metadata": {},
   "outputs": [
    {
     "name": "stdout",
     "output_type": "stream",
     "text": [
      "python\n"
     ]
    }
   ],
   "source": [
    "cadena = \"Python\"\n",
    "minusculas = cadena.lower()\n",
    "print(minusculas) # Imprimirá \"python\""
   ]
  },
  {
   "cell_type": "markdown",
   "metadata": {},
   "source": [
    "### capitalize()"
   ]
  },
  {
   "cell_type": "code",
   "execution_count": 69,
   "metadata": {},
   "outputs": [
    {
     "name": "stdout",
     "output_type": "stream",
     "text": [
      "Python\n"
     ]
    }
   ],
   "source": [
    "cadena = \"python\"\n",
    "capitalizada = cadena.capitalize()\n",
    "print(capitalizada) # Imprimirá \"Python\""
   ]
  },
  {
   "cell_type": "markdown",
   "metadata": {},
   "source": [
    "### replace(subcadena_vieja, subcadena_nueva)"
   ]
  },
  {
   "cell_type": "code",
   "execution_count": 70,
   "metadata": {},
   "outputs": [
    {
     "name": "stdout",
     "output_type": "stream",
     "text": [
      "python es genial\n"
     ]
    }
   ],
   "source": [
    "cadena = \"python es divertido\"\n",
    "nueva_cadena = cadena.replace(\"divertido\", \"genial\")\n",
    "print(nueva_cadena) # Imprimirá \"python es genial\""
   ]
  },
  {
   "cell_type": "markdown",
   "metadata": {},
   "source": [
    "### count(subcadena)"
   ]
  },
  {
   "cell_type": "code",
   "execution_count": 71,
   "metadata": {},
   "outputs": [
    {
     "name": "stdout",
     "output_type": "stream",
     "text": [
      "2\n"
     ]
    }
   ],
   "source": [
    "cadena = \"python es divertido y python es útil\"\n",
    "ocurrencias = cadena.count(\"python\")\n",
    "print(ocurrencias) # Imprimirá 2"
   ]
  },
  {
   "cell_type": "code",
   "execution_count": 72,
   "metadata": {},
   "outputs": [
    {
     "name": "stdout",
     "output_type": "stream",
     "text": [
      "Hola!\n"
     ]
    }
   ],
   "source": [
    "cadena_original = \"Hola\"\n",
    "caracter_adicional = \"!\"\n",
    "\n",
    "nueva_cadena = cadena_original + caracter_adicional\n",
    "print(nueva_cadena)  # Imprimirá \"Hola!\""
   ]
  },
  {
   "cell_type": "markdown",
   "metadata": {},
   "source": [
    "### Concatenación:"
   ]
  },
  {
   "cell_type": "code",
   "execution_count": 73,
   "metadata": {},
   "outputs": [
    {
     "name": "stdout",
     "output_type": "stream",
     "text": [
      "Hola!\n"
     ]
    }
   ],
   "source": [
    "cadena_original = \"Hola\"\n",
    "caracter_adicional = \"!\"\n",
    "\n",
    "nueva_cadena = cadena_original + caracter_adicional\n",
    "print(nueva_cadena)  # Imprimirá \"Hola!\""
   ]
  },
  {
   "cell_type": "markdown",
   "metadata": {},
   "source": [
    "### Formateo de cadenas:"
   ]
  },
  {
   "cell_type": "code",
   "execution_count": 74,
   "metadata": {},
   "outputs": [
    {
     "name": "stdout",
     "output_type": "stream",
     "text": [
      "Hola!\n"
     ]
    }
   ],
   "source": [
    "cadena_original = \"Hola\"\n",
    "caracter_adicional = \"!\"\n",
    "\n",
    "nueva_cadena = \"{}{}\".format(cadena_original, caracter_adicional)\n",
    "print(nueva_cadena)  # Imprimirá \"Hola!\""
   ]
  },
  {
   "cell_type": "markdown",
   "metadata": {},
   "source": [
    "### Utilizando el operador de multiplicación:"
   ]
  },
  {
   "cell_type": "code",
   "execution_count": 75,
   "metadata": {},
   "outputs": [
    {
     "name": "stdout",
     "output_type": "stream",
     "text": [
      "Hola!!!\n"
     ]
    }
   ],
   "source": [
    "cadena_original = \"Hola\"\n",
    "caracter_adicional = \"!\"\n",
    "\n",
    "nueva_cadena = cadena_original + (caracter_adicional * 3)\n",
    "print(nueva_cadena)  # Imprimirá \"Hola!!!\""
   ]
  },
  {
   "cell_type": "code",
   "execution_count": 76,
   "metadata": {},
   "outputs": [
    {
     "name": "stdout",
     "output_type": "stream",
     "text": [
      "Hola!\n"
     ]
    }
   ],
   "source": [
    "lista_cadena = list(\"Hola\")\n",
    "caracter_adicional = \"!\"\n",
    "\n",
    "lista_cadena.append(caracter_adicional)\n",
    "nueva_cadena = \"\".join(lista_cadena)\n",
    "print(nueva_cadena)  # Imprimirá \"Hola!\""
   ]
  },
  {
   "cell_type": "markdown",
   "metadata": {},
   "source": [
    "# Módulo 3: Manejo de Errores y Excepciones"
   ]
  },
  {
   "cell_type": "markdown",
   "metadata": {},
   "source": [
    "## 3.1 Try, Except y Finally"
   ]
  },
  {
   "cell_type": "markdown",
   "metadata": {},
   "source": [
    "### Estructura básica del manejo de excepciones:"
   ]
  },
  {
   "cell_type": "code",
   "execution_count": 77,
   "metadata": {},
   "outputs": [
    {
     "name": "stdout",
     "output_type": "stream",
     "text": [
      "Se produjo un error: division by zero\n"
     ]
    }
   ],
   "source": [
    "try:\n",
    "    # Bloque de código que puede generar una excepción\n",
    "    resultado = 10 / 0  # Genera una excepción de división por cero\n",
    "except Exception as error:\n",
    "    # Bloque de código que se ejecuta si se produce una excepción\n",
    "    print(f\"Se produjo un error: {error}\")"
   ]
  },
  {
   "cell_type": "markdown",
   "metadata": {},
   "source": [
    "### Tipos de excepciones:"
   ]
  },
  {
   "cell_type": "code",
   "execution_count": 78,
   "metadata": {},
   "outputs": [
    {
     "name": "stdout",
     "output_type": "stream",
     "text": [
      "El archivo no se encontró.\n"
     ]
    }
   ],
   "source": [
    "try:\n",
    "    # Bloque de código que puede generar una excepción\n",
    "    with open(\"archivo_inexistente.txt\", \"r\") as archivo:\n",
    "        contenido = archivo.read()\n",
    "except FileNotFoundError:\n",
    "    # Bloque de código específico para manejar el error de archivo no encontrado\n",
    "    print(\"El archivo no se encontró.\")\n",
    "except Exception as error:\n",
    "    # Bloque de código para manejar otras excepciones\n",
    "    print(f\"Se produjo un error: {error}\")"
   ]
  },
  {
   "cell_type": "markdown",
   "metadata": {},
   "source": [
    "### Bloque else y finally:"
   ]
  },
  {
   "cell_type": "code",
   "execution_count": 79,
   "metadata": {},
   "outputs": [
    {
     "name": "stdout",
     "output_type": "stream",
     "text": [
      "El resultado es: 5.0\n",
      "Fin del bloque try-except.\n"
     ]
    }
   ],
   "source": [
    "try:\n",
    "    # Bloque de código que puede generar una excepción\n",
    "    resultado = 10 / 2\n",
    "except ZeroDivisionError:\n",
    "    # Bloque de código para manejar el error de división por cero\n",
    "    print(\"¡Error! División por cero.\")\n",
    "else:\n",
    "    # Bloque de código que se ejecuta si no se produce una excepción\n",
    "    print(\"El resultado es:\", resultado)\n",
    "finally:\n",
    "    # Bloque de código que se ejecuta siempre\n",
    "    print(\"Fin del bloque try-except.\")"
   ]
  },
  {
   "cell_type": "markdown",
   "metadata": {},
   "source": [
    "## 3.2 Creación de Excepciones Personalizadas"
   ]
  },
  {
   "cell_type": "code",
   "execution_count": 80,
   "metadata": {},
   "outputs": [],
   "source": [
    "class MiExcepcionPersonalizada(Exception):\n",
    "    def __init__(self, mensaje=\"Se produjo un error personalizado.\"):\n",
    "        self.mensaje = mensaje\n",
    "        super().__init__(self.mensaje)\n",
    "\n",
    "# Ejemplo de uso de la excepción personalizada\n",
    "def funcion_que_puede_generar_error(valor):\n",
    "    if valor < 0:\n",
    "        raise MiExcepcionPersonalizada(\"El valor no puede ser negativo.\")\n",
    "\n",
    "# Uso de la función\n",
    "try:\n",
    "    valor_ingresado = int(input(\"Ingrese un número positivo: \"))\n",
    "    funcion_que_puede_generar_error(valor_ingresado)\n",
    "except MiExcepcionPersonalizada as error:\n",
    "    print(f\"Error personalizado: {error}\")\n",
    "except ValueError:\n",
    "    print(\"Error: Ingrese un número válido.\")"
   ]
  },
  {
   "cell_type": "markdown",
   "metadata": {},
   "source": [
    "# Módulo 4: Trabajo con Archivos"
   ]
  },
  {
   "cell_type": "markdown",
   "metadata": {},
   "source": [
    "## 4.1 Creación, Lectura y Escritura de Archivos de Texto"
   ]
  },
  {
   "cell_type": "code",
   "execution_count": 81,
   "metadata": {},
   "outputs": [],
   "source": [
    "# Abrir un archivo en modo de escritura (\"w\")\n",
    "with open(\"archivo.txt\", \"w\") as archivo:\n",
    "    # Escribir contenido en el archivo\n",
    "    archivo.write(\"Hola, este es un nuevo archivo de texto.\\n\")\n",
    "    archivo.write(\"Puedes agregar más líneas si lo deseas.\\n\")\n",
    "\n",
    "# El archivo se cierra automáticamente al salir del bloque \"with\""
   ]
  },
  {
   "cell_type": "markdown",
   "metadata": {},
   "source": [
    "### Abrir y cerrar archivos:"
   ]
  },
  {
   "cell_type": "code",
   "execution_count": 82,
   "metadata": {},
   "outputs": [],
   "source": [
    "# Abrir un archivo en modo de lectura\n",
    "archivo_lectura = open(\"archivo.txt\", \"r\")\n",
    "\n",
    "# Realizar operaciones de lectura o escritura\n",
    "\n",
    "# Cerrar el archivo\n",
    "#archivo_lectura.close()"
   ]
  },
  {
   "cell_type": "markdown",
   "metadata": {},
   "source": [
    "### Modos de apertura:\n",
    "\n",
    "- `\"r\"`: Lectura. Abre el archivo para leer. El puntero del archivo se coloca al principio del archivo.\n",
    "- `\"w\"`: Escritura. Abre el archivo para escribir. Si el archivo ya existe, trunca su contenido. Si no existe, crea un nuevo archivo.\n",
    "- `\"a\"`: Anexar. Abre el archivo para escribir. Si el archivo ya existe, coloca el puntero al final del archivo. Si no existe, crea un nuevo archivo.\n",
    "- `\"b\"`: Binario. Abre el archivo en modo binario.\n",
    "- `\"x\"`: Crear. Crea un nuevo archivo. Si el archivo ya existe, lanza un error."
   ]
  },
  {
   "cell_type": "markdown",
   "metadata": {},
   "source": [
    "### Métodos para lectura:"
   ]
  },
  {
   "cell_type": "code",
   "execution_count": 83,
   "metadata": {},
   "outputs": [],
   "source": [
    "# Leer todo el contenido del archivo\n",
    "contenido = archivo_lectura.read()\n",
    "\n",
    "# Leer una línea del archivo\n",
    "linea = archivo_lectura.readline()\n",
    "\n",
    "# Leer todas las líneas del archivo en una lista\n",
    "lineas = archivo_lectura.readlines()"
   ]
  },
  {
   "cell_type": "markdown",
   "metadata": {},
   "source": [
    "### Ejemplo completo:"
   ]
  },
  {
   "cell_type": "code",
   "execution_count": 84,
   "metadata": {},
   "outputs": [
    {
     "name": "stdout",
     "output_type": "stream",
     "text": [
      "Primera línea\n",
      "Segunda línea\n",
      "Tercera línea\n"
     ]
    }
   ],
   "source": [
    "# Abrir un archivo en modo de escritura\n",
    "with open(\"mi_archivo.txt\", \"w\") as archivo:\n",
    "    # Escribir algunas líneas en el archivo\n",
    "    archivo.write(\"Primera línea\\n\")\n",
    "    archivo.write(\"Segunda línea\\n\")\n",
    "    archivo.write(\"Tercera línea\\n\")\n",
    "\n",
    "# Abrir el archivo en modo de lectura\n",
    "with open(\"mi_archivo.txt\", \"r\") as archivo:\n",
    "    # Leer todas las líneas del archivo\n",
    "    lineas = archivo.readlines()\n",
    "\n",
    "# Imprimir las líneas leídas\n",
    "for linea in lineas:\n",
    "    print(linea.strip())  # strip() elimina los caracteres de nueva línea al final"
   ]
  },
  {
   "cell_type": "markdown",
   "metadata": {},
   "source": [
    "### Ejemplo de uso de \"r+\":"
   ]
  },
  {
   "cell_type": "code",
   "execution_count": 85,
   "metadata": {},
   "outputs": [
    {
     "name": "stdout",
     "output_type": "stream",
     "text": [
      "Contenido actual del archivo:\n",
      "Primera línea\n",
      "Segunda línea\n",
      "Tercera línea\n",
      "\n",
      "\n",
      "Contenido después de la modificación:\n",
      "Nueva línea al principio\n",
      "nea\n",
      "Tercera línea\n",
      "\n"
     ]
    }
   ],
   "source": [
    "# Abrir un archivo en modo de lectura y escritura\n",
    "with open(\"mi_archivo.txt\", \"r+\") as archivo:\n",
    "    # Leer el contenido actual del archivo\n",
    "    contenido = archivo.read()\n",
    "    print(\"Contenido actual del archivo:\")\n",
    "    print(contenido)\n",
    "\n",
    "    # Mover el puntero al principio del archivo\n",
    "    archivo.seek(0)\n",
    "\n",
    "    # Escribir una nueva línea al principio\n",
    "    archivo.write(\"Nueva línea al principio\\n\")\n",
    "\n",
    "    # Leer el contenido modificado\n",
    "    archivo.seek(0)\n",
    "    nuevo_contenido = archivo.read()\n",
    "\n",
    "    print(\"\\nContenido después de la modificación:\")\n",
    "    print(nuevo_contenido)"
   ]
  },
  {
   "cell_type": "markdown",
   "metadata": {},
   "source": [
    "## 4.2 Manipulación de Rutas de Archivos y Directorios\n",
    "### Módulo `os.path`:\n",
    "\n",
    "El módulo `os.path` proporciona funciones para manipular rutas de manera independiente del sistema operativo. Algunas funciones útiles incluyen:\n",
    "\n",
    "- `os.path.join()`: Combina varios componentes de ruta en una única ruta.\n",
    "- `os.path.basename()`: Devuelve el componente de nombre de archivo de una ruta.\n",
    "- `os.path.dirname()`: Devuelve el directorio de una ruta.\n",
    "- `os.path.exists()`: Verifica si una ruta dada (archivo o directorio) existe.\n",
    "- `os.path.isfile()`: Verifica si la ruta se refiere a un archivo regular.\n",
    "- `os.path.isdir()`: Verifica si la ruta se refiere a un directorio."
   ]
  },
  {
   "cell_type": "code",
   "execution_count": 86,
   "metadata": {},
   "outputs": [
    {
     "name": "stdout",
     "output_type": "stream",
     "text": [
      "Ruta completa: mi_directorio/mi_archivo.txt\n",
      "Nombre del archivo: mi_archivo.txt\n",
      "Directorio: mi_directorio\n",
      "El archivo existe.\n"
     ]
    }
   ],
   "source": [
    "import os\n",
    "\n",
    "# Ejemplo de uso del módulo os.path\n",
    "ruta_completa = os.path.join(\"mi_directorio\", \"mi_archivo.txt\")\n",
    "nombre_archivo = os.path.basename(ruta_completa)\n",
    "directorio = os.path.dirname(ruta_completa)\n",
    "\n",
    "print(f\"Ruta completa: {ruta_completa}\")\n",
    "print(f\"Nombre del archivo: {nombre_archivo}\")\n",
    "print(f\"Directorio: {directorio}\")\n",
    "\n",
    "# Verificar la existencia de un archivo\n",
    "if os.path.exists(ruta_completa):\n",
    "    print(\"El archivo existe.\")\n",
    "else:\n",
    "    print(\"El archivo no existe.\")"
   ]
  },
  {
   "cell_type": "markdown",
   "metadata": {},
   "source": [
    "### Módulo `os`:\n",
    "\n",
    "El módulo `os` proporciona funciones que interactúan con el sistema operativo, incluyendo operaciones relacionadas con archivos y directorios. Algunas funciones útiles incluyen:\n",
    "\n",
    "- `os.getcwd()`: Devuelve el directorio de trabajo actual.\n",
    "- `os.chdir()`: Cambia el directorio de trabajo actual.\n",
    "- `os.mkdir()`: Crea un nuevo directorio.\n",
    "- `os.makedirs()`: Crea directorios recursivamente.\n",
    "- `os.remove()`: Elimina un archivo.\n",
    "- `os.rmdir()`: Elimina un directorio vacío.\n",
    "- `os.removedirs()`: Elimina directorios recursivamente."
   ]
  },
  {
   "cell_type": "code",
   "execution_count": 87,
   "metadata": {},
   "outputs": [
    {
     "name": "stdout",
     "output_type": "stream",
     "text": [
      "Directorio actual: /Volumes/MACDATA/oscarp/Desktop/A15/Curso Python\n"
     ]
    },
    {
     "ename": "FileExistsError",
     "evalue": "[Errno 17] File exists: 'mi_directorio'",
     "output_type": "error",
     "traceback": [
      "\u001b[0;31m---------------------------------------------------------------------------\u001b[0m",
      "\u001b[0;31mFileExistsError\u001b[0m                           Traceback (most recent call last)",
      "Cell \u001b[0;32mIn[87], line 8\u001b[0m\n\u001b[1;32m      5\u001b[0m \u001b[38;5;28mprint\u001b[39m(\u001b[38;5;124mf\u001b[39m\u001b[38;5;124m\"\u001b[39m\u001b[38;5;124mDirectorio actual: \u001b[39m\u001b[38;5;132;01m{\u001b[39;00mdirectorio_actual\u001b[38;5;132;01m}\u001b[39;00m\u001b[38;5;124m\"\u001b[39m)\n\u001b[1;32m      7\u001b[0m \u001b[38;5;66;03m# Crear un nuevo directorio\u001b[39;00m\n\u001b[0;32m----> 8\u001b[0m os\u001b[38;5;241m.\u001b[39mmkdir(\u001b[38;5;124m\"\u001b[39m\u001b[38;5;124mmi_directorio\u001b[39m\u001b[38;5;124m\"\u001b[39m)\n\u001b[1;32m     10\u001b[0m \u001b[38;5;66;03m# Cambiar al directorio \"mi_directorio\"\u001b[39;00m\n\u001b[1;32m     11\u001b[0m os\u001b[38;5;241m.\u001b[39mchdir(\u001b[38;5;124m\"\u001b[39m\u001b[38;5;124mmi_directorio\u001b[39m\u001b[38;5;124m\"\u001b[39m)\n",
      "\u001b[0;31mFileExistsError\u001b[0m: [Errno 17] File exists: 'mi_directorio'"
     ]
    }
   ],
   "source": [
    "import os\n",
    "\n",
    "# Ejemplo de uso del módulo os\n",
    "directorio_actual = os.getcwd()\n",
    "print(f\"Directorio actual: {directorio_actual}\")\n",
    "\n",
    "# Crear un nuevo directorio\n",
    "os.mkdir(\"mi_directorio\")\n",
    "\n",
    "# Cambiar al directorio \"mi_directorio\"\n",
    "os.chdir(\"mi_directorio\")\n",
    "\n",
    "# Crear un nuevo directorio\n",
    "os.mkdir(\"nuevo_directorio\")\n",
    "\n",
    "# Verificar si el directorio existe\n",
    "if os.path.exists(\"nuevo_directorio\"):\n",
    "    print(\"El directorio 'nuevo_directorio' existe.\")\n",
    "\n",
    "# Eliminar el directorio creado\n",
    "os.rmdir(\"nuevo_directorio\")"
   ]
  },
  {
   "cell_type": "markdown",
   "metadata": {},
   "source": [
    "# Módulo 5: Programación Funcional en Python"
   ]
  },
  {
   "cell_type": "markdown",
   "metadata": {},
   "source": [
    "## 5.1 Funciones de primera clase"
   ]
  },
  {
   "cell_type": "code",
   "execution_count": null,
   "metadata": {},
   "outputs": [],
   "source": [
    "def cuadrado(x): return x ** 2\n",
    "def aplicar_funcion(func, valor): return func(valor)\n",
    "resultado = aplicar_funcion(cuadrado, 5)\n",
    "print(resultado) # Imprimirá 25"
   ]
  },
  {
   "cell_type": "markdown",
   "metadata": {},
   "source": [
    "## 5.2 Funciones lambda"
   ]
  },
  {
   "cell_type": "code",
   "execution_count": null,
   "metadata": {},
   "outputs": [],
   "source": [
    "cuadrado = lambda x: x ** 2\n",
    "resultado = cuadrado(5)\n",
    "print(resultado) # Imprimirá 25"
   ]
  },
  {
   "cell_type": "markdown",
   "metadata": {},
   "source": [
    "## 5.3 Map, Filter y Reduce"
   ]
  },
  {
   "cell_type": "code",
   "execution_count": null,
   "metadata": {},
   "outputs": [],
   "source": [
    "# Ejemplo de map()\n",
    "lista = [1, 2, 3, 4, 5]\n",
    "cuadrados = list(map(lambda x: x ** 2, lista))\n",
    "print(cuadrados) # Imprimirá [1, 4, 9, 16, 25]\n",
    "# Ejemplo de filter()\n",
    "pares = list(filter(lambda x: x % 2 == 0, lista))\n",
    "print(pares) # Imprimirá [2, 4]\n",
    "# Ejemplo de reduce()\n",
    "from functools import reduce\n",
    "suma = reduce(lambda x, y: x + y, lista)\n",
    "print(suma) # Imprimirá 15"
   ]
  },
  {
   "cell_type": "markdown",
   "metadata": {},
   "source": [
    "## 5.4 Comprensiones de listas"
   ]
  },
  {
   "cell_type": "code",
   "execution_count": null,
   "metadata": {},
   "outputs": [],
   "source": [
    "# Comprensión de lista para obtener cuadrados de los números pares\n",
    "numeros = [1, 2, 3, 4, 5]\n",
    "cuadrados_pares = [x ** 2 for x in numeros if x % 2 == 0]\n",
    "print(cuadrados_pares) # Imprimirá [4, 16]\n"
   ]
  },
  {
   "cell_type": "markdown",
   "metadata": {},
   "source": [
    "## 5.5 Inmutabilidad"
   ]
  },
  {
   "cell_type": "code",
   "execution_count": null,
   "metadata": {},
   "outputs": [],
   "source": [
    "# Ejemplo de inmutabilidad\n",
    "lista_original = [1, 2, 3]\n",
    "lista_modificada = lista_original + [4] # Crear una nueva lista en lugar de modificar la original\n",
    "print(lista_original) # Imprimirá [1, 2, 3]\n",
    "print(lista_modificada) # Imprimirá [1, 2, 3, 4]"
   ]
  },
  {
   "cell_type": "markdown",
   "metadata": {},
   "source": [
    "# Módulo 6: Expresiones Regulares (Regex)"
   ]
  },
  {
   "cell_type": "markdown",
   "metadata": {},
   "source": [
    "### Ejemplo 1 Búsqueda con Expresiones Regulares en Python:"
   ]
  },
  {
   "cell_type": "code",
   "execution_count": null,
   "metadata": {},
   "outputs": [],
   "source": [
    "import re\n",
    "\n",
    "texto = \"Contacta con support@example.com o info@company.com para obtener ayuda.\"\n",
    "patron_email = r'\\b[A-Za-z0-9._%+-]+@[A-Za-z0-9.-]+\\.[A-Z|a-z]{2,}\\b'\n",
    "\n",
    "resultados = re.findall(patron_email, texto)\n",
    "print(resultados)"
   ]
  },
  {
   "cell_type": "markdown",
   "metadata": {},
   "source": [
    "### Ejemplo 2 Coincidencia con Expresiones Regulares en Python:"
   ]
  },
  {
   "cell_type": "code",
   "execution_count": null,
   "metadata": {},
   "outputs": [],
   "source": [
    "import re\n",
    "\n",
    "numero_telefono = \"123-456-7890\"\n",
    "patron_telefono = r'^\\d{3}-\\d{3}-\\d{4}$'\n",
    "\n",
    "if re.match(patron_telefono, numero_telefono):\n",
    "    print(\"Número de teléfono válido.\")\n",
    "else:\n",
    "    print(\"Número de teléfono no válido.\")"
   ]
  },
  {
   "cell_type": "markdown",
   "metadata": {},
   "source": [
    "### Ejemplo 3 Sustitución con Expresiones Regulares en Python:"
   ]
  },
  {
   "cell_type": "code",
   "execution_count": null,
   "metadata": {},
   "outputs": [],
   "source": [
    "import re\n",
    "\n",
    "texto = \"La contraseña es: secreto123 y la otra contraseña es: clave456.\"\n",
    "patron_contraseña = r'\\b(secreto123|clave456)\\b'\n",
    "\n",
    "texto_oculto = re.sub(patron_contraseña, '********', texto)\n",
    "print(texto_oculto)"
   ]
  },
  {
   "cell_type": "markdown",
   "metadata": {},
   "source": [
    "### Ejemplo 4 Extracción con Expresiones Regulares en Python:"
   ]
  },
  {
   "cell_type": "code",
   "execution_count": null,
   "metadata": {},
   "outputs": [],
   "source": [
    "import re\n",
    "\n",
    "texto = \"Hoy es 01/02/2023 y mañana será 15/03/2023.\"\n",
    "patron_fecha = r'\\b(\\d{2}/\\d{2}/\\d{4})\\b'\n",
    "\n",
    "fechas_encontradas = re.findall(patron_fecha, texto)\n",
    "print(fechas_encontradas)"
   ]
  },
  {
   "cell_type": "markdown",
   "metadata": {},
   "source": [
    "## Ejemplos"
   ]
  },
  {
   "cell_type": "markdown",
   "metadata": {},
   "source": [
    "### Caracteres Literales:"
   ]
  },
  {
   "cell_type": "code",
   "execution_count": null,
   "metadata": {},
   "outputs": [],
   "source": [
    "import re\n",
    "texto = \"Python es un lenguaje de programación.\"\n",
    "patron = r\"Python\"\n",
    "coincidencias = re.findall(patron, texto)\n",
    "print(coincidencias) # Imprimirá ['Python']"
   ]
  },
  {
   "cell_type": "markdown",
   "metadata": {},
   "source": [
    "### Metacaracteres:"
   ]
  },
  {
   "cell_type": "code",
   "execution_count": null,
   "metadata": {},
   "outputs": [],
   "source": [
    "import re\n",
    "texto = \"123-456-7890\"\n",
    "patron = r\"^\\d{3}-\\d{3}-\\d{4}$\"\n",
    "coincidencia = re.match(patron, texto)\n",
    "if coincidencia: print(\"Número de teléfono válido.\")\n",
    "else: print(\"Número de teléfono no válido.\")"
   ]
  },
  {
   "cell_type": "markdown",
   "metadata": {},
   "source": [
    "### Cuantificadores:"
   ]
  },
  {
   "cell_type": "code",
   "execution_count": null,
   "metadata": {},
   "outputs": [],
   "source": [
    "import re\n",
    "texto = \"12345\"\n",
    "patron_con_cuantificador = r\"\\d{2,4}\"\n",
    "coincidencia_con_cuantificador = re.findall(patron_con_cuantificador, texto)\n",
    "print(coincidencia_con_cuantificador) # Imprimirá ['1234']\n",
    "patron_sin_cuantificador = r\"\\d\\d\\d\\d\"\n",
    "coincidencia_sin_cuantificador = re.findall(patron_sin_cuantificador, texto)\n",
    "print(coincidencia_sin_cuantificador) # Imprimirá ['1234']"
   ]
  },
  {
   "cell_type": "markdown",
   "metadata": {},
   "source": [
    "# Módulo 7: Manejo de Fechas y Tiempo"
   ]
  },
  {
   "cell_type": "markdown",
   "metadata": {},
   "source": [
    "## 7.2 Directivas de Formato\n",
    "\n",
    "Las directivas de formato se utilizan para representar y dar formato a las fechas y horas. Algunas de las directivas comunes son:\n",
    "\n",
    "- `%Y`: Año con siglo como número decimal de cuatro dígitos.\n",
    "- `%m`: Mes como número decimal de dos dígitos.\n",
    "- `%d`: Día del mes como número decimal de dos dígitos.\n",
    "- `%H`: Hora (00-23).\n",
    "- `%M`: Minuto (00-59).\n",
    "- `%S`: Segundo (00-59)."
   ]
  },
  {
   "cell_type": "markdown",
   "metadata": {},
   "source": [
    "### Ejemplos:"
   ]
  },
  {
   "cell_type": "markdown",
   "metadata": {},
   "source": [
    "### Obtener la Fecha y Hora Actuales:"
   ]
  },
  {
   "cell_type": "code",
   "execution_count": null,
   "metadata": {},
   "outputs": [],
   "source": [
    "from datetime import datetime\n",
    "\n",
    "fecha_hora_actual = datetime.now()\n",
    "print(\"Fecha y hora actuales:\", fecha_hora_actual)"
   ]
  },
  {
   "cell_type": "markdown",
   "metadata": {},
   "source": [
    "### Formatear una Fecha:"
   ]
  },
  {
   "cell_type": "code",
   "execution_count": null,
   "metadata": {},
   "outputs": [],
   "source": [
    "from datetime import datetime\n",
    "\n",
    "fecha = datetime(2023, 1, 19)\n",
    "formato_personalizado = fecha.strftime(\"%Y-%m-%d\")\n",
    "print(\"Fecha formateada:\", formato_personalizado)"
   ]
  },
  {
   "cell_type": "markdown",
   "metadata": {},
   "source": [
    "### Parsear una Cadena a Fecha:"
   ]
  },
  {
   "cell_type": "code",
   "execution_count": null,
   "metadata": {},
   "outputs": [],
   "source": [
    "from datetime import datetime\n",
    "\n",
    "cadena_fecha = \"2023-01-19\"\n",
    "fecha_parseada = datetime.strptime(cadena_fecha, \"%Y-%m-%d\")\n",
    "print(\"Fecha parseada:\", fecha_parseada)"
   ]
  },
  {
   "cell_type": "markdown",
   "metadata": {},
   "source": [
    "### Operaciones con Fechas:"
   ]
  },
  {
   "cell_type": "code",
   "execution_count": null,
   "metadata": {},
   "outputs": [],
   "source": [
    "from datetime import datetime, timedelta\n",
    "\n",
    "fecha_actual = datetime.now()\n",
    "diferencia_dias = timedelta(days=7)\n",
    "nueva_fecha = fecha_actual + diferencia_dias\n",
    "print(\"Fecha actual:\", fecha_actual)\n",
    "print(\"Fecha después de 7 días:\", nueva_fecha)"
   ]
  },
  {
   "cell_type": "markdown",
   "metadata": {},
   "source": [
    "### Diferencia entre Fechas:"
   ]
  },
  {
   "cell_type": "code",
   "execution_count": null,
   "metadata": {},
   "outputs": [],
   "source": [
    "from datetime import datetime, timedelta\n",
    "\n",
    "fecha1 = datetime(2023, 1, 19)\n",
    "fecha2 = datetime(2023, 1, 25)\n",
    "diferencia = fecha2 - fecha1\n",
    "print(\"Diferencia entre fechas:\", diferencia)"
   ]
  },
  {
   "cell_type": "markdown",
   "metadata": {},
   "source": [
    "## 7.3 Zonas Horarias"
   ]
  },
  {
   "cell_type": "markdown",
   "metadata": {},
   "source": [
    "### Instalación de pytz:"
   ]
  },
  {
   "cell_type": "code",
   "execution_count": null,
   "metadata": {},
   "outputs": [],
   "source": [
    "import pytz\n",
    "pytz.all_timezones"
   ]
  },
  {
   "cell_type": "markdown",
   "metadata": {},
   "source": [
    "### Ejemplo de Manejo de Zonas Horarias y Conversión:"
   ]
  },
  {
   "cell_type": "code",
   "execution_count": null,
   "metadata": {},
   "outputs": [],
   "source": [
    "from datetime import datetime\n",
    "import pytz\n",
    "\n",
    "# Obtener la fecha y hora actual con la zona horaria UTC\n",
    "fecha_hora_utc = datetime.now(pytz.utc)\n",
    "print(\"Fecha y hora en UTC:\", fecha_hora_utc)\n",
    "\n",
    "# Obtener la zona horaria de Nueva York\n",
    "zona_horaria_ny = pytz.timezone('America/New_York')\n",
    "\n",
    "# Convertir la fecha y hora UTC a la zona horaria de Nueva York\n",
    "fecha_hora_ny = fecha_hora_utc.astimezone(zona_horaria_ny)\n",
    "print(\"Fecha y hora en Nueva York:\", fecha_hora_ny)\n",
    "\n",
    "# Obtener la zona horaria de Tokio\n",
    "zona_horaria_tokio = pytz.timezone('Asia/Tokyo')\n",
    "\n",
    "# Convertir la fecha y hora UTC a la zona horaria de Tokio\n",
    "fecha_hora_tokio = fecha_hora_utc.astimezone(zona_horaria_tokio)\n",
    "print(\"Fecha y hora en Tokio:\", fecha_hora_tokio)"
   ]
  },
  {
   "cell_type": "markdown",
   "metadata": {},
   "source": [
    "### Listado de todas las zonas horarias:"
   ]
  },
  {
   "cell_type": "code",
   "execution_count": 88,
   "metadata": {},
   "outputs": [
    {
     "data": {
      "text/plain": [
       "['Africa/Abidjan', 'Africa/Accra', 'Africa/Addis_Ababa', 'Africa/Algiers', 'Africa/Asmara', 'Africa/Asmera', 'Africa/Bamako', 'Africa/Bangui', 'Africa/Banjul', 'Africa/Bissau', 'Africa/Blantyre', 'Africa/Brazzaville', 'Africa/Bujumbura', 'Africa/Cairo', 'Africa/Casablanca', 'Africa/Ceuta', 'Africa/Conakry', 'Africa/Dakar', 'Africa/Dar_es_Salaam', 'Africa/Djibouti', 'Africa/Douala', 'Africa/El_Aaiun', 'Africa/Freetown', 'Africa/Gaborone', 'Africa/Harare', 'Africa/Johannesburg', 'Africa/Juba', 'Africa/Kampala', 'Africa/Khartoum', 'Africa/Kigali', 'Africa/Kinshasa', 'Africa/Lagos', 'Africa/Libreville', 'Africa/Lome', 'Africa/Luanda', 'Africa/Lubumbashi', 'Africa/Lusaka', 'Africa/Malabo', 'Africa/Maputo', 'Africa/Maseru', 'Africa/Mbabane', 'Africa/Mogadishu', 'Africa/Monrovia', 'Africa/Nairobi', 'Africa/Ndjamena', 'Africa/Niamey', 'Africa/Nouakchott', 'Africa/Ouagadougou', 'Africa/Porto-Novo', 'Africa/Sao_Tome', 'Africa/Timbuktu', 'Africa/Tripoli', 'Africa/Tunis', 'Africa/Windhoek', 'America/Adak', 'America/Anchorage', 'America/Anguilla', 'America/Antigua', 'America/Araguaina', 'America/Argentina/Buenos_Aires', 'America/Argentina/Catamarca', 'America/Argentina/ComodRivadavia', 'America/Argentina/Cordoba', 'America/Argentina/Jujuy', 'America/Argentina/La_Rioja', 'America/Argentina/Mendoza', 'America/Argentina/Rio_Gallegos', 'America/Argentina/Salta', 'America/Argentina/San_Juan', 'America/Argentina/San_Luis', 'America/Argentina/Tucuman', 'America/Argentina/Ushuaia', 'America/Aruba', 'America/Asuncion', 'America/Atikokan', 'America/Atka', 'America/Bahia', 'America/Bahia_Banderas', 'America/Barbados', 'America/Belem', 'America/Belize', 'America/Blanc-Sablon', 'America/Boa_Vista', 'America/Bogota', 'America/Boise', 'America/Buenos_Aires', 'America/Cambridge_Bay', 'America/Campo_Grande', 'America/Cancun', 'America/Caracas', 'America/Catamarca', 'America/Cayenne', 'America/Cayman', 'America/Chicago', 'America/Chihuahua', 'America/Ciudad_Juarez', 'America/Coral_Harbour', 'America/Cordoba', 'America/Costa_Rica', 'America/Creston', 'America/Cuiaba', 'America/Curacao', 'America/Danmarkshavn', 'America/Dawson', 'America/Dawson_Creek', 'America/Denver', 'America/Detroit', 'America/Dominica', 'America/Edmonton', 'America/Eirunepe', 'America/El_Salvador', 'America/Ensenada', 'America/Fort_Nelson', 'America/Fort_Wayne', 'America/Fortaleza', 'America/Glace_Bay', 'America/Godthab', 'America/Goose_Bay', 'America/Grand_Turk', 'America/Grenada', 'America/Guadeloupe', 'America/Guatemala', 'America/Guayaquil', 'America/Guyana', 'America/Halifax', 'America/Havana', 'America/Hermosillo', 'America/Indiana/Indianapolis', 'America/Indiana/Knox', 'America/Indiana/Marengo', 'America/Indiana/Petersburg', 'America/Indiana/Tell_City', 'America/Indiana/Vevay', 'America/Indiana/Vincennes', 'America/Indiana/Winamac', 'America/Indianapolis', 'America/Inuvik', 'America/Iqaluit', 'America/Jamaica', 'America/Jujuy', 'America/Juneau', 'America/Kentucky/Louisville', 'America/Kentucky/Monticello', 'America/Knox_IN', 'America/Kralendijk', 'America/La_Paz', 'America/Lima', 'America/Los_Angeles', 'America/Louisville', 'America/Lower_Princes', 'America/Maceio', 'America/Managua', 'America/Manaus', 'America/Marigot', 'America/Martinique', 'America/Matamoros', 'America/Mazatlan', 'America/Mendoza', 'America/Menominee', 'America/Merida', 'America/Metlakatla', 'America/Mexico_City', 'America/Miquelon', 'America/Moncton', 'America/Monterrey', 'America/Montevideo', 'America/Montreal', 'America/Montserrat', 'America/Nassau', 'America/New_York', 'America/Nipigon', 'America/Nome', 'America/Noronha', 'America/North_Dakota/Beulah', 'America/North_Dakota/Center', 'America/North_Dakota/New_Salem', 'America/Nuuk', 'America/Ojinaga', 'America/Panama', 'America/Pangnirtung', 'America/Paramaribo', 'America/Phoenix', 'America/Port-au-Prince', 'America/Port_of_Spain', 'America/Porto_Acre', 'America/Porto_Velho', 'America/Puerto_Rico', 'America/Punta_Arenas', 'America/Rainy_River', 'America/Rankin_Inlet', 'America/Recife', 'America/Regina', 'America/Resolute', 'America/Rio_Branco', 'America/Rosario', 'America/Santa_Isabel', 'America/Santarem', 'America/Santiago', 'America/Santo_Domingo', 'America/Sao_Paulo', 'America/Scoresbysund', 'America/Shiprock', 'America/Sitka', 'America/St_Barthelemy', 'America/St_Johns', 'America/St_Kitts', 'America/St_Lucia', 'America/St_Thomas', 'America/St_Vincent', 'America/Swift_Current', 'America/Tegucigalpa', 'America/Thule', 'America/Thunder_Bay', 'America/Tijuana', 'America/Toronto', 'America/Tortola', 'America/Vancouver', 'America/Virgin', 'America/Whitehorse', 'America/Winnipeg', 'America/Yakutat', 'America/Yellowknife', 'Antarctica/Casey', 'Antarctica/Davis', 'Antarctica/DumontDUrville', 'Antarctica/Macquarie', 'Antarctica/Mawson', 'Antarctica/McMurdo', 'Antarctica/Palmer', 'Antarctica/Rothera', 'Antarctica/South_Pole', 'Antarctica/Syowa', 'Antarctica/Troll', 'Antarctica/Vostok', 'Arctic/Longyearbyen', 'Asia/Aden', 'Asia/Almaty', 'Asia/Amman', 'Asia/Anadyr', 'Asia/Aqtau', 'Asia/Aqtobe', 'Asia/Ashgabat', 'Asia/Ashkhabad', 'Asia/Atyrau', 'Asia/Baghdad', 'Asia/Bahrain', 'Asia/Baku', 'Asia/Bangkok', 'Asia/Barnaul', 'Asia/Beirut', 'Asia/Bishkek', 'Asia/Brunei', 'Asia/Calcutta', 'Asia/Chita', 'Asia/Choibalsan', 'Asia/Chongqing', 'Asia/Chungking', 'Asia/Colombo', 'Asia/Dacca', 'Asia/Damascus', 'Asia/Dhaka', 'Asia/Dili', 'Asia/Dubai', 'Asia/Dushanbe', 'Asia/Famagusta', 'Asia/Gaza', 'Asia/Harbin', 'Asia/Hebron', 'Asia/Ho_Chi_Minh', 'Asia/Hong_Kong', 'Asia/Hovd', 'Asia/Irkutsk', 'Asia/Istanbul', 'Asia/Jakarta', 'Asia/Jayapura', 'Asia/Jerusalem', 'Asia/Kabul', 'Asia/Kamchatka', 'Asia/Karachi', 'Asia/Kashgar', 'Asia/Kathmandu', 'Asia/Katmandu', 'Asia/Khandyga', 'Asia/Kolkata', 'Asia/Krasnoyarsk', 'Asia/Kuala_Lumpur', 'Asia/Kuching', 'Asia/Kuwait', 'Asia/Macao', 'Asia/Macau', 'Asia/Magadan', 'Asia/Makassar', 'Asia/Manila', 'Asia/Muscat', 'Asia/Nicosia', 'Asia/Novokuznetsk', 'Asia/Novosibirsk', 'Asia/Omsk', 'Asia/Oral', 'Asia/Phnom_Penh', 'Asia/Pontianak', 'Asia/Pyongyang', 'Asia/Qatar', 'Asia/Qostanay', 'Asia/Qyzylorda', 'Asia/Rangoon', 'Asia/Riyadh', 'Asia/Saigon', 'Asia/Sakhalin', 'Asia/Samarkand', 'Asia/Seoul', 'Asia/Shanghai', 'Asia/Singapore', 'Asia/Srednekolymsk', 'Asia/Taipei', 'Asia/Tashkent', 'Asia/Tbilisi', 'Asia/Tehran', 'Asia/Tel_Aviv', 'Asia/Thimbu', 'Asia/Thimphu', 'Asia/Tokyo', 'Asia/Tomsk', 'Asia/Ujung_Pandang', 'Asia/Ulaanbaatar', 'Asia/Ulan_Bator', 'Asia/Urumqi', 'Asia/Ust-Nera', 'Asia/Vientiane', 'Asia/Vladivostok', 'Asia/Yakutsk', 'Asia/Yangon', 'Asia/Yekaterinburg', 'Asia/Yerevan', 'Atlantic/Azores', 'Atlantic/Bermuda', 'Atlantic/Canary', 'Atlantic/Cape_Verde', 'Atlantic/Faeroe', 'Atlantic/Faroe', 'Atlantic/Jan_Mayen', 'Atlantic/Madeira', 'Atlantic/Reykjavik', 'Atlantic/South_Georgia', 'Atlantic/St_Helena', 'Atlantic/Stanley', 'Australia/ACT', 'Australia/Adelaide', 'Australia/Brisbane', 'Australia/Broken_Hill', 'Australia/Canberra', 'Australia/Currie', 'Australia/Darwin', 'Australia/Eucla', 'Australia/Hobart', 'Australia/LHI', 'Australia/Lindeman', 'Australia/Lord_Howe', 'Australia/Melbourne', 'Australia/NSW', 'Australia/North', 'Australia/Perth', 'Australia/Queensland', 'Australia/South', 'Australia/Sydney', 'Australia/Tasmania', 'Australia/Victoria', 'Australia/West', 'Australia/Yancowinna', 'Brazil/Acre', 'Brazil/DeNoronha', 'Brazil/East', 'Brazil/West', 'CET', 'CST6CDT', 'Canada/Atlantic', 'Canada/Central', 'Canada/Eastern', 'Canada/Mountain', 'Canada/Newfoundland', 'Canada/Pacific', 'Canada/Saskatchewan', 'Canada/Yukon', 'Chile/Continental', 'Chile/EasterIsland', 'Cuba', 'EET', 'EST', 'EST5EDT', 'Egypt', 'Eire', 'Etc/GMT', 'Etc/GMT+0', 'Etc/GMT+1', 'Etc/GMT+10', 'Etc/GMT+11', 'Etc/GMT+12', 'Etc/GMT+2', 'Etc/GMT+3', 'Etc/GMT+4', 'Etc/GMT+5', 'Etc/GMT+6', 'Etc/GMT+7', 'Etc/GMT+8', 'Etc/GMT+9', 'Etc/GMT-0', 'Etc/GMT-1', 'Etc/GMT-10', 'Etc/GMT-11', 'Etc/GMT-12', 'Etc/GMT-13', 'Etc/GMT-14', 'Etc/GMT-2', 'Etc/GMT-3', 'Etc/GMT-4', 'Etc/GMT-5', 'Etc/GMT-6', 'Etc/GMT-7', 'Etc/GMT-8', 'Etc/GMT-9', 'Etc/GMT0', 'Etc/Greenwich', 'Etc/UCT', 'Etc/UTC', 'Etc/Universal', 'Etc/Zulu', 'Europe/Amsterdam', 'Europe/Andorra', 'Europe/Astrakhan', 'Europe/Athens', 'Europe/Belfast', 'Europe/Belgrade', 'Europe/Berlin', 'Europe/Bratislava', 'Europe/Brussels', 'Europe/Bucharest', 'Europe/Budapest', 'Europe/Busingen', 'Europe/Chisinau', 'Europe/Copenhagen', 'Europe/Dublin', 'Europe/Gibraltar', 'Europe/Guernsey', 'Europe/Helsinki', 'Europe/Isle_of_Man', 'Europe/Istanbul', 'Europe/Jersey', 'Europe/Kaliningrad', 'Europe/Kiev', 'Europe/Kirov', 'Europe/Kyiv', 'Europe/Lisbon', 'Europe/Ljubljana', 'Europe/London', 'Europe/Luxembourg', 'Europe/Madrid', 'Europe/Malta', 'Europe/Mariehamn', 'Europe/Minsk', 'Europe/Monaco', 'Europe/Moscow', 'Europe/Nicosia', 'Europe/Oslo', 'Europe/Paris', 'Europe/Podgorica', 'Europe/Prague', 'Europe/Riga', 'Europe/Rome', 'Europe/Samara', 'Europe/San_Marino', 'Europe/Sarajevo', 'Europe/Saratov', 'Europe/Simferopol', 'Europe/Skopje', 'Europe/Sofia', 'Europe/Stockholm', 'Europe/Tallinn', 'Europe/Tirane', 'Europe/Tiraspol', 'Europe/Ulyanovsk', 'Europe/Uzhgorod', 'Europe/Vaduz', 'Europe/Vatican', 'Europe/Vienna', 'Europe/Vilnius', 'Europe/Volgograd', 'Europe/Warsaw', 'Europe/Zagreb', 'Europe/Zaporozhye', 'Europe/Zurich', 'GB', 'GB-Eire', 'GMT', 'GMT+0', 'GMT-0', 'GMT0', 'Greenwich', 'HST', 'Hongkong', 'Iceland', 'Indian/Antananarivo', 'Indian/Chagos', 'Indian/Christmas', 'Indian/Cocos', 'Indian/Comoro', 'Indian/Kerguelen', 'Indian/Mahe', 'Indian/Maldives', 'Indian/Mauritius', 'Indian/Mayotte', 'Indian/Reunion', 'Iran', 'Israel', 'Jamaica', 'Japan', 'Kwajalein', 'Libya', 'MET', 'MST', 'MST7MDT', 'Mexico/BajaNorte', 'Mexico/BajaSur', 'Mexico/General', 'NZ', 'NZ-CHAT', 'Navajo', 'PRC', 'PST8PDT', 'Pacific/Apia', 'Pacific/Auckland', 'Pacific/Bougainville', 'Pacific/Chatham', 'Pacific/Chuuk', 'Pacific/Easter', 'Pacific/Efate', 'Pacific/Enderbury', 'Pacific/Fakaofo', 'Pacific/Fiji', 'Pacific/Funafuti', 'Pacific/Galapagos', 'Pacific/Gambier', 'Pacific/Guadalcanal', 'Pacific/Guam', 'Pacific/Honolulu', 'Pacific/Johnston', 'Pacific/Kanton', 'Pacific/Kiritimati', 'Pacific/Kosrae', 'Pacific/Kwajalein', 'Pacific/Majuro', 'Pacific/Marquesas', 'Pacific/Midway', 'Pacific/Nauru', 'Pacific/Niue', 'Pacific/Norfolk', 'Pacific/Noumea', 'Pacific/Pago_Pago', 'Pacific/Palau', 'Pacific/Pitcairn', 'Pacific/Pohnpei', 'Pacific/Ponape', 'Pacific/Port_Moresby', 'Pacific/Rarotonga', 'Pacific/Saipan', 'Pacific/Samoa', 'Pacific/Tahiti', 'Pacific/Tarawa', 'Pacific/Tongatapu', 'Pacific/Truk', 'Pacific/Wake', 'Pacific/Wallis', 'Pacific/Yap', 'Poland', 'Portugal', 'ROC', 'ROK', 'Singapore', 'Turkey', 'UCT', 'US/Alaska', 'US/Aleutian', 'US/Arizona', 'US/Central', 'US/East-Indiana', 'US/Eastern', 'US/Hawaii', 'US/Indiana-Starke', 'US/Michigan', 'US/Mountain', 'US/Pacific', 'US/Samoa', 'UTC', 'Universal', 'W-SU', 'WET', 'Zulu']"
      ]
     },
     "execution_count": 88,
     "metadata": {},
     "output_type": "execute_result"
    }
   ],
   "source": [
    "import pytz\n",
    "pytz.all_timezones"
   ]
  },
  {
   "cell_type": "code",
   "execution_count": 89,
   "metadata": {},
   "outputs": [
    {
     "ename": "NameError",
     "evalue": "name 'datetime' is not defined",
     "output_type": "error",
     "traceback": [
      "\u001b[0;31m---------------------------------------------------------------------------\u001b[0m",
      "\u001b[0;31mNameError\u001b[0m                                 Traceback (most recent call last)",
      "Cell \u001b[0;32mIn[89], line 15\u001b[0m\n\u001b[1;32m     12\u001b[0m zona_horaria_actual \u001b[38;5;241m=\u001b[39m pytz\u001b[38;5;241m.\u001b[39mtimezone(zona_horaria)\n\u001b[1;32m     14\u001b[0m \u001b[38;5;66;03m# Obtener la diferencia de horas respecto a UTC\u001b[39;00m\n\u001b[0;32m---> 15\u001b[0m diferencia_horas \u001b[38;5;241m=\u001b[39m zona_horaria_referencia\u001b[38;5;241m.\u001b[39mutcoffset(datetime\u001b[38;5;241m.\u001b[39mutcnow()) \u001b[38;5;241m-\u001b[39m zona_horaria_actual\u001b[38;5;241m.\u001b[39mutcoffset(datetime\u001b[38;5;241m.\u001b[39mutcnow())\n\u001b[1;32m     17\u001b[0m \u001b[38;5;66;03m# Formatear la diferencia de horas\u001b[39;00m\n\u001b[1;32m     18\u001b[0m signo \u001b[38;5;241m=\u001b[39m \u001b[38;5;124m'\u001b[39m\u001b[38;5;124m+\u001b[39m\u001b[38;5;124m'\u001b[39m \u001b[38;5;28;01mif\u001b[39;00m diferencia_horas\u001b[38;5;241m.\u001b[39mtotal_seconds() \u001b[38;5;241m>\u001b[39m\u001b[38;5;241m=\u001b[39m \u001b[38;5;241m0\u001b[39m \u001b[38;5;28;01melse\u001b[39;00m \u001b[38;5;124m'\u001b[39m\u001b[38;5;124m-\u001b[39m\u001b[38;5;124m'\u001b[39m\n",
      "\u001b[0;31mNameError\u001b[0m: name 'datetime' is not defined"
     ]
    }
   ],
   "source": [
    "import pytz\n",
    "\n",
    "# Zona horaria de referencia (UTC)\n",
    "zona_horaria_referencia = pytz.timezone('UTC')\n",
    "\n",
    "# Obtener la lista de todas las zonas horarias\n",
    "todas_las_zonas_horarias = pytz.all_timezones\n",
    "\n",
    "# Imprimir todas las zonas horarias con sus diferencias de horas respecto a UTC\n",
    "for zona_horaria in todas_las_zonas_horarias:\n",
    "    # Obtener la zona horaria actual\n",
    "    zona_horaria_actual = pytz.timezone(zona_horaria)\n",
    "    \n",
    "    # Obtener la diferencia de horas respecto a UTC\n",
    "    diferencia_horas = zona_horaria_referencia.utcoffset(datetime.utcnow()) - zona_horaria_actual.utcoffset(datetime.utcnow())\n",
    "    \n",
    "    # Formatear la diferencia de horas\n",
    "    signo = '+' if diferencia_horas.total_seconds() >= 0 else '-'\n",
    "    diferencia_formateada = f\"{signo}{abs(diferencia_horas)}\"\n",
    "\n",
    "    # Imprimir la información\n",
    "    print(f\"{zona_horaria}: (GMT{diferencia_formateada})\")"
   ]
  }
 ],
 "metadata": {
  "kernelspec": {
   "display_name": "base",
   "language": "python",
   "name": "python3"
  },
  "language_info": {
   "codemirror_mode": {
    "name": "ipython",
    "version": 3
   },
   "file_extension": ".py",
   "mimetype": "text/x-python",
   "name": "python",
   "nbconvert_exporter": "python",
   "pygments_lexer": "ipython3",
   "version": "3.11.1"
  }
 },
 "nbformat": 4,
 "nbformat_minor": 2
}
